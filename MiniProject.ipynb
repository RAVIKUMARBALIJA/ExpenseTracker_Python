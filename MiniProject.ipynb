{
  "nbformat": 4,
  "nbformat_minor": 0,
  "metadata": {
    "colab": {
      "name": "MiniProject.ipynb",
      "provenance": [],
      "collapsed_sections": [],
      "toc_visible": true,
      "authorship_tag": "ABX9TyNkZl4Oq9yBceDPzxjurQCb",
      "include_colab_link": true
    },
    "kernelspec": {
      "name": "python3",
      "display_name": "Python 3"
    },
    "language_info": {
      "name": "python"
    }
  },
  "cells": [
    {
      "cell_type": "markdown",
      "metadata": {
        "id": "view-in-github",
        "colab_type": "text"
      },
      "source": [
        "<a href=\"https://colab.research.google.com/github/RAVIKUMARBALIJA/ExpenseTracker_Python/blob/main/MiniProject.ipynb\" target=\"_parent\"><img src=\"https://colab.research.google.com/assets/colab-badge.svg\" alt=\"Open In Colab\"/></a>"
      ]
    },
    {
      "cell_type": "code",
      "metadata": {
        "id": "XFY5bO7XsXPE"
      },
      "source": [
        "##Author : Ravi kumar Balija, 26/05/2021"
      ],
      "execution_count": 112,
      "outputs": []
    },
    {
      "cell_type": "markdown",
      "metadata": {
        "id": "goQFz67eAeR7"
      },
      "source": [
        "# # ITP Mini Project"
      ]
    },
    {
      "cell_type": "markdown",
      "metadata": {
        "id": "q9ISCbbyAeVg"
      },
      "source": [
        "We all have to maintain our own personal expenses in day to day life. It’s very normal for us to lose track of them and end up going out of budget. We require a way to keep ourself in within budget.\n",
        "\n",
        "This is where we can explore our skills in Python to come up with a solution. We can create a python program that allows you to keep track of the finance expenses.\n",
        "\n",
        "With the Finance Tracker, users can easily set a budget and add up their expenses to make better financial decisions. Anything beyond the budget will not be added up.\n",
        "\n",
        "**Objective:**To Estimate the Personal Financial Budget at the End of the Month."
      ]
    },
    {
      "cell_type": "code",
      "metadata": {
        "id": "bLKIzu-A1y9C"
      },
      "source": [
        "rm -r expense_tracker"
      ],
      "execution_count": 119,
      "outputs": []
    },
    {
      "cell_type": "code",
      "metadata": {
        "id": "58Pb714TAjB5"
      },
      "source": [
        "import pandas as pd\n",
        "import numpy as np\n",
        "import matplotlib.pyplot as plt\n",
        "import time\n",
        "import os\n",
        "import datetime"
      ],
      "execution_count": 121,
      "outputs": []
    },
    {
      "cell_type": "code",
      "metadata": {
        "id": "oRYJApMvSIH_"
      },
      "source": [
        "class ExpenseTracker():\n",
        "  def __init__(self):\n",
        "    self.path='expense_tracker/'\n",
        "    #self.budget=5000\n",
        "    os.makedirs(path,exist_ok=True)\n",
        "    try:\n",
        "      with open(os.path.join(self.path,'tracker.csv'),'rb') as f:\n",
        "        pd.read_csv(self.path+'tracker.csv',encoding='utf-8')\n",
        "    except:\n",
        "      with open(os.path.join(self.path,'tracker.csv'),'w+') as f:\n",
        "        f.writelines('Date,TransactionName,Type,Amount,Location')\n",
        "    expense_data=pd.read_csv(path+'tracker.csv',sep=',',encoding='utf-8')\n",
        "  def add_expense(self):\n",
        "    b_add=True\n",
        "    date=datetime.datetime.now().strftime('%c')\n",
        "    transactionName=input(\"Please enter your transaction name ex: shopping, pub, cinema, Deposit, ATM Deposit etc \")\n",
        "    Type=input(\"enter the transaction type Ex : Debit/Credit \")\n",
        "    Amount=float(input(\"enter Amount to be spent \"))\n",
        "    Location=input('Location of the transaction ')\n",
        "    data={\n",
        "      'Date':date,\n",
        "      'TransactionName':transactionName,\n",
        "      'Type':Type,\n",
        "      'Amount':Amount,\n",
        "      'Location':Location\n",
        "    }\n",
        "    with open(os.path.join(self.path,'tracker.csv'),'rb') as f:\n",
        "      expense_data=pd.read_csv(self.path+'tracker.csv',encoding='utf-8')\n",
        "    expense_data=expense_data.append(data,ignore_index=True)\n",
        "    b_add=self.validate_balance(data['Type'],data['Amount'])\n",
        "    if b_add:\n",
        "      expense_data.to_csv(self.path+'tracker.csv',index=False)\n",
        "      print(\"Your transaction has been successful\\n\")\n",
        "      expense=pd.DataFrame(expense_data.groupby('Type')['Amount'].sum())\n",
        "      if int(expense.count())>0:\n",
        "        rem_budget=(expense[expense.index=='Credit'].values-expense[expense.index=='Debit'].values).ravel()[0]\n",
        "        print(f\"Your available balance {rem_budget} \\n\")\n",
        "  def validate_balance(self,Type=None,Amount=None):\n",
        "    b_add=True\n",
        "    with open(os.path.join(self.path,'tracker.csv'),'rb') as f:\n",
        "      expense_data=pd.read_csv(self.path+'tracker.csv',encoding='utf-8')\n",
        "    expense=pd.DataFrame(expense_data.groupby('Type')['Amount'].sum())\n",
        "    if int(expense.count())>0:\n",
        "      rem_budget=(expense[expense.index=='Credit'].values-expense[expense.index=='Debit'].values).ravel()[0]\n",
        "    else:\n",
        "      rem_budget=0\n",
        "    if(rem_budget<=0):\n",
        "      if(Type=='Debit'):\n",
        "        print(f'you dont have sufficient funds. please adjust your latest expense or add money to your wallet. remaining funds {rem_budget}')\n",
        "        b_add=False\n",
        "    elif(rem_budget<Amount and Type=='Debit'):\n",
        "      print(f'you dont have sufficient funds. please adjust your latest expense or add money to your wallet. remaining funds {rem_budget}')\n",
        "      b_add=False\n",
        "    return b_add\n",
        "  def fetch_expenses(self):\n",
        "    with open(os.path.join(self.path,'tracker.csv'),'rb') as f:\n",
        "      expense_data=pd.read_csv(self.path+'tracker.csv',encoding='utf-8')\n",
        "    expense=pd.DataFrame(expense_data.groupby('Type')['Amount'].sum())\n",
        "    if int(expense.count())>0:\n",
        "      rem_budget=(expense[expense.index=='Credit'].values-expense[expense.index=='Debit'].values).ravel()[0]\n",
        "    print(f\"Your available balance {rem_budget} \\nTransactions below\")\n",
        "    #print(pd.DataFrame(expense_data))\n",
        "    return expense_data"
      ],
      "execution_count": 122,
      "outputs": []
    },
    {
      "cell_type": "code",
      "metadata": {
        "id": "xmNhK9A2cRMM"
      },
      "source": [
        "expense_tracker=ExpenseTracker()"
      ],
      "execution_count": 123,
      "outputs": []
    },
    {
      "cell_type": "code",
      "metadata": {
        "colab": {
          "base_uri": "https://localhost:8080/",
          "height": 455
        },
        "id": "L4Kw2QP-ciJj",
        "outputId": "99b6db77-00b6-4ae7-c39f-30b228cc9cea"
      },
      "source": [
        "expense_tracker.fetch_expenses()"
      ],
      "execution_count": 116,
      "outputs": [
        {
          "output_type": "stream",
          "text": [
            "Your available balance 0.0 \n",
            "Transactions below\n"
          ],
          "name": "stdout"
        },
        {
          "output_type": "execute_result",
          "data": {
            "text/html": [
              "<div>\n",
              "<style scoped>\n",
              "    .dataframe tbody tr th:only-of-type {\n",
              "        vertical-align: middle;\n",
              "    }\n",
              "\n",
              "    .dataframe tbody tr th {\n",
              "        vertical-align: top;\n",
              "    }\n",
              "\n",
              "    .dataframe thead th {\n",
              "        text-align: right;\n",
              "    }\n",
              "</style>\n",
              "<table border=\"1\" class=\"dataframe\">\n",
              "  <thead>\n",
              "    <tr style=\"text-align: right;\">\n",
              "      <th></th>\n",
              "      <th>Date</th>\n",
              "      <th>TransactionName</th>\n",
              "      <th>Type</th>\n",
              "      <th>Amount</th>\n",
              "      <th>Location</th>\n",
              "    </tr>\n",
              "  </thead>\n",
              "  <tbody>\n",
              "    <tr>\n",
              "      <th>0</th>\n",
              "      <td>Wed May 26 07:23:48 2021</td>\n",
              "      <td>Movie</td>\n",
              "      <td>Debit</td>\n",
              "      <td>1500.0</td>\n",
              "      <td>Hyderabad</td>\n",
              "    </tr>\n",
              "    <tr>\n",
              "      <th>1</th>\n",
              "      <td>Wed May 26 07:24:18 2021</td>\n",
              "      <td>Movie</td>\n",
              "      <td>Credit</td>\n",
              "      <td>3500.0</td>\n",
              "      <td>Hyderabad</td>\n",
              "    </tr>\n",
              "    <tr>\n",
              "      <th>2</th>\n",
              "      <td>Wed May 26 07:25:20 2021</td>\n",
              "      <td>Deposit</td>\n",
              "      <td>Debit</td>\n",
              "      <td>2000.0</td>\n",
              "      <td>Adoni</td>\n",
              "    </tr>\n",
              "    <tr>\n",
              "      <th>3</th>\n",
              "      <td>Wed May 26 07:31:05 2021</td>\n",
              "      <td>Deposit</td>\n",
              "      <td>Credit</td>\n",
              "      <td>2500.0</td>\n",
              "      <td>Adoni</td>\n",
              "    </tr>\n",
              "    <tr>\n",
              "      <th>4</th>\n",
              "      <td>Wed May 26 07:32:12 2021</td>\n",
              "      <td>pub</td>\n",
              "      <td>Debit</td>\n",
              "      <td>1000.0</td>\n",
              "      <td>Bellary</td>\n",
              "    </tr>\n",
              "    <tr>\n",
              "      <th>5</th>\n",
              "      <td>Wed May 26 07:40:02 2021</td>\n",
              "      <td>Shopping</td>\n",
              "      <td>Debit</td>\n",
              "      <td>2000.0</td>\n",
              "      <td>Bellary</td>\n",
              "    </tr>\n",
              "    <tr>\n",
              "      <th>6</th>\n",
              "      <td>Wed May 26 07:48:17 2021</td>\n",
              "      <td>Deposit</td>\n",
              "      <td>Credit</td>\n",
              "      <td>2000.0</td>\n",
              "      <td>Adoni</td>\n",
              "    </tr>\n",
              "    <tr>\n",
              "      <th>7</th>\n",
              "      <td>Wed May 26 07:51:53 2021</td>\n",
              "      <td>Shopping</td>\n",
              "      <td>Debit</td>\n",
              "      <td>1000.0</td>\n",
              "      <td>Bellary</td>\n",
              "    </tr>\n",
              "    <tr>\n",
              "      <th>8</th>\n",
              "      <td>Wed May 26 07:54:32 2021</td>\n",
              "      <td>Shopping</td>\n",
              "      <td>Debit</td>\n",
              "      <td>400.0</td>\n",
              "      <td>Bellary</td>\n",
              "    </tr>\n",
              "    <tr>\n",
              "      <th>9</th>\n",
              "      <td>Wed May 26 07:58:48 2021</td>\n",
              "      <td>Deposit</td>\n",
              "      <td>Credit</td>\n",
              "      <td>900.0</td>\n",
              "      <td>Bellary</td>\n",
              "    </tr>\n",
              "    <tr>\n",
              "      <th>10</th>\n",
              "      <td>Wed May 26 07:59:49 2021</td>\n",
              "      <td>Shopping</td>\n",
              "      <td>Debit</td>\n",
              "      <td>800.0</td>\n",
              "      <td>Bellary</td>\n",
              "    </tr>\n",
              "    <tr>\n",
              "      <th>11</th>\n",
              "      <td>Wed May 26 08:00:38 2021</td>\n",
              "      <td>Burger</td>\n",
              "      <td>Debit</td>\n",
              "      <td>200.0</td>\n",
              "      <td>Bellary</td>\n",
              "    </tr>\n",
              "  </tbody>\n",
              "</table>\n",
              "</div>"
            ],
            "text/plain": [
              "                        Date TransactionName    Type  Amount   Location\n",
              "0   Wed May 26 07:23:48 2021           Movie   Debit  1500.0  Hyderabad\n",
              "1   Wed May 26 07:24:18 2021           Movie  Credit  3500.0  Hyderabad\n",
              "2   Wed May 26 07:25:20 2021         Deposit   Debit  2000.0      Adoni\n",
              "3   Wed May 26 07:31:05 2021         Deposit  Credit  2500.0      Adoni\n",
              "4   Wed May 26 07:32:12 2021             pub   Debit  1000.0    Bellary\n",
              "5   Wed May 26 07:40:02 2021        Shopping   Debit  2000.0    Bellary\n",
              "6   Wed May 26 07:48:17 2021         Deposit  Credit  2000.0      Adoni\n",
              "7   Wed May 26 07:51:53 2021        Shopping   Debit  1000.0    Bellary\n",
              "8   Wed May 26 07:54:32 2021        Shopping   Debit   400.0    Bellary\n",
              "9   Wed May 26 07:58:48 2021         Deposit  Credit   900.0    Bellary\n",
              "10  Wed May 26 07:59:49 2021        Shopping   Debit   800.0    Bellary\n",
              "11  Wed May 26 08:00:38 2021          Burger   Debit   200.0    Bellary"
            ]
          },
          "metadata": {
            "tags": []
          },
          "execution_count": 116
        }
      ]
    },
    {
      "cell_type": "code",
      "metadata": {
        "colab": {
          "base_uri": "https://localhost:8080/"
        },
        "id": "61QUwp1fkgA2",
        "outputId": "ba7f5677-d6a8-41cb-ef12-e197ff2165d9"
      },
      "source": [
        "expense_tracker.validate_balance('Debit',1000)"
      ],
      "execution_count": 105,
      "outputs": [
        {
          "output_type": "stream",
          "text": [
            "you dont have sufficient funds. please adjust your latest expense or add money to your wallet. remaining funds 100.0\n"
          ],
          "name": "stdout"
        },
        {
          "output_type": "execute_result",
          "data": {
            "text/plain": [
              "False"
            ]
          },
          "metadata": {
            "tags": []
          },
          "execution_count": 105
        }
      ]
    },
    {
      "cell_type": "code",
      "metadata": {
        "colab": {
          "base_uri": "https://localhost:8080/"
        },
        "id": "TizBKjxpc4EO",
        "outputId": "8d04a063-c390-4ce3-90a8-4150685bf71d"
      },
      "source": [
        "expense_tracker.add_expense()"
      ],
      "execution_count": 107,
      "outputs": [
        {
          "output_type": "stream",
          "text": [
            "Please enter your transaction name ex: shopping, pub, cinema, Deposit, ATM Deposit etc Deposit\n",
            "enter the transaction type Ex : Debit/Credit Credit\n",
            "enter Amount to be spent 900\n",
            "Location of the transaction Bellary\n",
            "Your transaction has been successful\n",
            "\n",
            "Your available balance 1000.0 \n",
            "\n"
          ],
          "name": "stdout"
        }
      ]
    },
    {
      "cell_type": "code",
      "metadata": {
        "colab": {
          "base_uri": "https://localhost:8080/"
        },
        "id": "dxvI-GmelXw_",
        "outputId": "b84f1f05-af89-4d22-9f67-5e05232e5569"
      },
      "source": [
        "expense_tracker.add_expense()"
      ],
      "execution_count": 108,
      "outputs": [
        {
          "output_type": "stream",
          "text": [
            "Please enter your transaction name ex: shopping, pub, cinema, Deposit, ATM Deposit etc Shopping\n",
            "enter the transaction type Ex : Debit/Credit Debit\n",
            "enter Amount to be spent 1200\n",
            "Location of the transaction Bellary\n",
            "you dont have sufficient funds. please adjust your latest expense or add money to your wallet. remaining funds 1000.0\n"
          ],
          "name": "stdout"
        }
      ]
    },
    {
      "cell_type": "code",
      "metadata": {
        "colab": {
          "base_uri": "https://localhost:8080/"
        },
        "id": "avK-BDRIlgcE",
        "outputId": "2dfde5e6-8b5c-47be-9d03-3d3529eca63f"
      },
      "source": [
        "expense_tracker.add_expense()"
      ],
      "execution_count": 109,
      "outputs": [
        {
          "output_type": "stream",
          "text": [
            "Please enter your transaction name ex: shopping, pub, cinema, Deposit, ATM Deposit etc Shopping\n",
            "enter the transaction type Ex : Debit/Credit Debit\n",
            "enter Amount to be spent 800\n",
            "Location of the transaction Bellary\n",
            "Your transaction has been successful\n",
            "\n",
            "Your available balance 200.0 \n",
            "\n"
          ],
          "name": "stdout"
        }
      ]
    },
    {
      "cell_type": "code",
      "metadata": {
        "colab": {
          "base_uri": "https://localhost:8080/"
        },
        "id": "Yqnp1txtlmRp",
        "outputId": "8654bd43-5336-4779-f960-17b23c2202b9"
      },
      "source": [
        "expense_tracker.add_expense()"
      ],
      "execution_count": 110,
      "outputs": [
        {
          "output_type": "stream",
          "text": [
            "Please enter your transaction name ex: shopping, pub, cinema, Deposit, ATM Deposit etc Burger\n",
            "enter the transaction type Ex : Debit/Credit Debit\n",
            "enter Amount to be spent 200\n",
            "Location of the transaction Bellary\n",
            "Your transaction has been successful\n",
            "\n",
            "Your available balance 0.0 \n",
            "\n"
          ],
          "name": "stdout"
        }
      ]
    },
    {
      "cell_type": "code",
      "metadata": {
        "colab": {
          "base_uri": "https://localhost:8080/"
        },
        "id": "G3rKWuX21eej",
        "outputId": "ba7d9f78-d8b7-41d9-c0a8-c179829b6923"
      },
      "source": [
        "expense_tracker.add_expense()"
      ],
      "execution_count": 117,
      "outputs": [
        {
          "output_type": "stream",
          "text": [
            "Please enter your transaction name ex: shopping, pub, cinema, Deposit, ATM Deposit etc Deposit\n",
            "enter the transaction type Ex : Debit/Credit Credit\n",
            "enter Amount to be spent 5000\n",
            "Location of the transaction Bangalore\n",
            "Your transaction has been successful\n",
            "\n",
            "Your available balance 5000.0 \n",
            "\n"
          ],
          "name": "stdout"
        }
      ]
    },
    {
      "cell_type": "code",
      "metadata": {
        "colab": {
          "base_uri": "https://localhost:8080/",
          "height": 455
        },
        "id": "Bb_mSMjvlvdv",
        "outputId": "84b17dfe-05b6-43ac-8fcd-210d150fcf83"
      },
      "source": [
        "expense_tracker.fetch_expenses()"
      ],
      "execution_count": 111,
      "outputs": [
        {
          "output_type": "stream",
          "text": [
            "Your available balance 0.0 \n",
            "Transactions below\n"
          ],
          "name": "stdout"
        },
        {
          "output_type": "execute_result",
          "data": {
            "text/html": [
              "<div>\n",
              "<style scoped>\n",
              "    .dataframe tbody tr th:only-of-type {\n",
              "        vertical-align: middle;\n",
              "    }\n",
              "\n",
              "    .dataframe tbody tr th {\n",
              "        vertical-align: top;\n",
              "    }\n",
              "\n",
              "    .dataframe thead th {\n",
              "        text-align: right;\n",
              "    }\n",
              "</style>\n",
              "<table border=\"1\" class=\"dataframe\">\n",
              "  <thead>\n",
              "    <tr style=\"text-align: right;\">\n",
              "      <th></th>\n",
              "      <th>Date</th>\n",
              "      <th>TransactionName</th>\n",
              "      <th>Type</th>\n",
              "      <th>Amount</th>\n",
              "      <th>Location</th>\n",
              "    </tr>\n",
              "  </thead>\n",
              "  <tbody>\n",
              "    <tr>\n",
              "      <th>0</th>\n",
              "      <td>Wed May 26 07:23:48 2021</td>\n",
              "      <td>Movie</td>\n",
              "      <td>Debit</td>\n",
              "      <td>1500.0</td>\n",
              "      <td>Hyderabad</td>\n",
              "    </tr>\n",
              "    <tr>\n",
              "      <th>1</th>\n",
              "      <td>Wed May 26 07:24:18 2021</td>\n",
              "      <td>Movie</td>\n",
              "      <td>Credit</td>\n",
              "      <td>3500.0</td>\n",
              "      <td>Hyderabad</td>\n",
              "    </tr>\n",
              "    <tr>\n",
              "      <th>2</th>\n",
              "      <td>Wed May 26 07:25:20 2021</td>\n",
              "      <td>Deposit</td>\n",
              "      <td>Debit</td>\n",
              "      <td>2000.0</td>\n",
              "      <td>Adoni</td>\n",
              "    </tr>\n",
              "    <tr>\n",
              "      <th>3</th>\n",
              "      <td>Wed May 26 07:31:05 2021</td>\n",
              "      <td>Deposit</td>\n",
              "      <td>Credit</td>\n",
              "      <td>2500.0</td>\n",
              "      <td>Adoni</td>\n",
              "    </tr>\n",
              "    <tr>\n",
              "      <th>4</th>\n",
              "      <td>Wed May 26 07:32:12 2021</td>\n",
              "      <td>pub</td>\n",
              "      <td>Debit</td>\n",
              "      <td>1000.0</td>\n",
              "      <td>Bellary</td>\n",
              "    </tr>\n",
              "    <tr>\n",
              "      <th>5</th>\n",
              "      <td>Wed May 26 07:40:02 2021</td>\n",
              "      <td>Shopping</td>\n",
              "      <td>Debit</td>\n",
              "      <td>2000.0</td>\n",
              "      <td>Bellary</td>\n",
              "    </tr>\n",
              "    <tr>\n",
              "      <th>6</th>\n",
              "      <td>Wed May 26 07:48:17 2021</td>\n",
              "      <td>Deposit</td>\n",
              "      <td>Credit</td>\n",
              "      <td>2000.0</td>\n",
              "      <td>Adoni</td>\n",
              "    </tr>\n",
              "    <tr>\n",
              "      <th>7</th>\n",
              "      <td>Wed May 26 07:51:53 2021</td>\n",
              "      <td>Shopping</td>\n",
              "      <td>Debit</td>\n",
              "      <td>1000.0</td>\n",
              "      <td>Bellary</td>\n",
              "    </tr>\n",
              "    <tr>\n",
              "      <th>8</th>\n",
              "      <td>Wed May 26 07:54:32 2021</td>\n",
              "      <td>Shopping</td>\n",
              "      <td>Debit</td>\n",
              "      <td>400.0</td>\n",
              "      <td>Bellary</td>\n",
              "    </tr>\n",
              "    <tr>\n",
              "      <th>9</th>\n",
              "      <td>Wed May 26 07:58:48 2021</td>\n",
              "      <td>Deposit</td>\n",
              "      <td>Credit</td>\n",
              "      <td>900.0</td>\n",
              "      <td>Bellary</td>\n",
              "    </tr>\n",
              "    <tr>\n",
              "      <th>10</th>\n",
              "      <td>Wed May 26 07:59:49 2021</td>\n",
              "      <td>Shopping</td>\n",
              "      <td>Debit</td>\n",
              "      <td>800.0</td>\n",
              "      <td>Bellary</td>\n",
              "    </tr>\n",
              "    <tr>\n",
              "      <th>11</th>\n",
              "      <td>Wed May 26 08:00:38 2021</td>\n",
              "      <td>Burger</td>\n",
              "      <td>Debit</td>\n",
              "      <td>200.0</td>\n",
              "      <td>Bellary</td>\n",
              "    </tr>\n",
              "  </tbody>\n",
              "</table>\n",
              "</div>"
            ],
            "text/plain": [
              "                        Date TransactionName    Type  Amount   Location\n",
              "0   Wed May 26 07:23:48 2021           Movie   Debit  1500.0  Hyderabad\n",
              "1   Wed May 26 07:24:18 2021           Movie  Credit  3500.0  Hyderabad\n",
              "2   Wed May 26 07:25:20 2021         Deposit   Debit  2000.0      Adoni\n",
              "3   Wed May 26 07:31:05 2021         Deposit  Credit  2500.0      Adoni\n",
              "4   Wed May 26 07:32:12 2021             pub   Debit  1000.0    Bellary\n",
              "5   Wed May 26 07:40:02 2021        Shopping   Debit  2000.0    Bellary\n",
              "6   Wed May 26 07:48:17 2021         Deposit  Credit  2000.0      Adoni\n",
              "7   Wed May 26 07:51:53 2021        Shopping   Debit  1000.0    Bellary\n",
              "8   Wed May 26 07:54:32 2021        Shopping   Debit   400.0    Bellary\n",
              "9   Wed May 26 07:58:48 2021         Deposit  Credit   900.0    Bellary\n",
              "10  Wed May 26 07:59:49 2021        Shopping   Debit   800.0    Bellary\n",
              "11  Wed May 26 08:00:38 2021          Burger   Debit   200.0    Bellary"
            ]
          },
          "metadata": {
            "tags": []
          },
          "execution_count": 111
        }
      ]
    }
  ]
}